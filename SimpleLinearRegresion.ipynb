{
 "cells": [
  {
   "cell_type": "markdown",
   "id": "864607a8-e8e1-402a-8bc8-c6afafaef76a",
   "metadata": {},
   "source": [
    "### Dados Kaggle\n",
    "#### https://www.kaggle.com/datasets/abhishek14398/salary-dataset-simple-linear-regression/data"
   ]
  },
  {
   "cell_type": "code",
   "execution_count": null,
   "id": "9a0f3874-b2ba-4e57-9731-51470f0545a9",
   "metadata": {},
   "outputs": [],
   "source": [
    "import pandas as pd\n",
    "import numpy as np\n",
    "\n",
    "import matplotlib.pyplot as plt\n",
    "import seaborn as sns\n",
    "\n",
    "from sklearn.model_selection import train_test_split\n",
    "from sklearn.linear_model import LinearRegression\n",
    "from sklearn.metrics import mean_squared_error, r2_score\n",
    "from sklearn.model_selection import cross_val_score"
   ]
  },
  {
   "cell_type": "markdown",
   "id": "2cbb92fe-57ac-4928-a5d7-61b86d2bd2bc",
   "metadata": {},
   "source": [
    "## Importando Dados"
   ]
  },
  {
   "cell_type": "code",
   "execution_count": null,
   "id": "634a47c2-6cf4-4088-ad99-3ac1578cb42f",
   "metadata": {},
   "outputs": [],
   "source": [
    "#Importando dados no dataframe e visualizando\n",
    "df = pd.read_csv(\"dados/Salary_dataset.csv\", index_col=0)\n",
    "df.head()"
   ]
  },
  {
   "cell_type": "markdown",
   "id": "68846f4d-89b0-4a58-b761-06cf202cc337",
   "metadata": {},
   "source": [
    "## Explorando Dados"
   ]
  },
  {
   "cell_type": "code",
   "execution_count": null,
   "id": "797a582b-719c-4cee-a0a4-880045950a64",
   "metadata": {},
   "outputs": [],
   "source": [
    "df.describe()"
   ]
  },
  {
   "cell_type": "code",
   "execution_count": null,
   "id": "e6547b15-0132-492f-a663-48fb525ff175",
   "metadata": {},
   "outputs": [],
   "source": [
    "#Valor médio da variável target, pode ser interpretado como valor médio esperado da previsão\n",
    "vlr_mean_predict = target.mean()\n",
    "vlr_mean_predict"
   ]
  },
  {
   "cell_type": "code",
   "execution_count": null,
   "id": "4e170cd4-31d4-4702-b938-23348751d9fa",
   "metadata": {},
   "outputs": [],
   "source": [
    "#SSE simulado\n",
    "#SSE é a diferença ao quadrodo entre o valor previsto e o valor observado\n",
    "squared_error = pd.Series(vlr_mean_predict - df['Salary']) ** 2\n",
    "SSE = np.sum(squared_error)\n",
    "print('Soma dos Quadrados dos Erros (SSE):  %01.f' % SSE)"
   ]
  },
  {
   "cell_type": "code",
   "execution_count": null,
   "id": "0bf1af79-53a7-44fb-899f-968613463b13",
   "metadata": {},
   "outputs": [],
   "source": [
    "# Se os erros estivessem concentrados na menor taxa, significa que a var target estava normalizada, neste caso aparentemente não esta\n",
    "hist_plot = squared_error.plot(kind='hist')"
   ]
  },
  {
   "cell_type": "code",
   "execution_count": null,
   "id": "8a5d56a5-25a8-4242-9eb5-5be76b7e6dfe",
   "metadata": {},
   "outputs": [],
   "source": [
    "# Scatterplot para ver relação das variáveis\n",
    "plt.figure(figsize=(10, 6))\n",
    "\n",
    "sns.scatterplot(x='YearsExperience', y='Salary', data=df, color='b', s=100)\n",
    "\n",
    "plt.title('Scatter Plot: Years of Experience vs Salary')\n",
    "plt.xlabel('Years of Experience')\n",
    "plt.ylabel('Salary')\n",
    "plt.grid(True)\n",
    "\n",
    "plt.show()"
   ]
  },
  {
   "cell_type": "code",
   "execution_count": null,
   "id": "d7880309-9438-4813-a0cf-9bf37f2ed1cf",
   "metadata": {},
   "outputs": [],
   "source": [
    "# Visualizando a relação linear\n",
    "plt.figure(figsize=(10, 6))\n",
    "\n",
    "sns.regplot(x='YearsExperience', y='Salary', data=df, scatter_kws={'s': 100}, line_kws={'color': 'red'})\n",
    "\n",
    "plt.title('Regression Plot: Years of Experience vs Salary')\n",
    "plt.xlabel('Years of Experience')\n",
    "plt.ylabel('Salary')\n",
    "plt.grid(True)\n",
    "\n",
    "plt.show()"
   ]
  },
  {
   "cell_type": "markdown",
   "id": "ff3d2476-037e-4fbb-9162-70785407d829",
   "metadata": {},
   "source": [
    "## Modelo Regressão Linear Scikit-Learn"
   ]
  },
  {
   "cell_type": "code",
   "execution_count": null,
   "id": "9ebda7b4-c950-4ea8-ac61-721b17de9946",
   "metadata": {},
   "outputs": [],
   "source": [
    "modelo = LinearRegression(fit_intercept = True)"
   ]
  },
  {
   "cell_type": "code",
   "execution_count": null,
   "id": "053b8e51-34dc-4961-9b46-c712ce87a2c1",
   "metadata": {},
   "outputs": [],
   "source": [
    "X = df['YearsExperience'].values.reshape(-1, 1)\n",
    "y = df['Salary']"
   ]
  },
  {
   "cell_type": "code",
   "execution_count": null,
   "id": "6f5100ff-1cda-4041-9910-affd2ad7f827",
   "metadata": {},
   "outputs": [],
   "source": [
    "# Splitting treino e teste\n",
    "X_train, X_test, y_train, y_test = train_test_split(X, y, test_size=0.2, random_state=42)"
   ]
  },
  {
   "cell_type": "code",
   "execution_count": null,
   "id": "d461d915-3a79-4e65-bf2a-d9809736d33b",
   "metadata": {},
   "outputs": [],
   "source": [
    "modelo.fit(X_train, y_train)"
   ]
  },
  {
   "cell_type": "code",
   "execution_count": null,
   "id": "24cdc1e5-0c0b-4aec-ab50-747dd519976f",
   "metadata": {},
   "outputs": [],
   "source": [
    "print (modelo.coef_)\n",
    "print (modelo.intercept_)"
   ]
  },
  {
   "cell_type": "code",
   "execution_count": null,
   "id": "675a3a9c-3589-41f0-a99b-96c81f26ce18",
   "metadata": {},
   "outputs": [],
   "source": [
    "y_train_pred = modelo.predict(X_train)\n",
    "y_test_pred = modelo.predict(X_test)"
   ]
  },
  {
   "cell_type": "code",
   "execution_count": null,
   "id": "40521757-ddab-4b45-8409-ec8c3172ae3c",
   "metadata": {},
   "outputs": [],
   "source": [
    "# Desempenho do modelo\n",
    "train_mse = mean_squared_error(y_train, y_train_pred)\n",
    "test_mse = mean_squared_error(y_test, y_test_pred)\n",
    "train_r2 = r2_score(y_train, y_train_pred)\n",
    "test_r2 = r2_score(y_test, y_test_pred)"
   ]
  },
  {
   "cell_type": "code",
   "execution_count": null,
   "id": "54ea6781-d69a-48f6-8c94-7825c1ae5972",
   "metadata": {},
   "outputs": [],
   "source": [
    "# Resultados\n",
    "print(f\"Training MSE: {train_mse}\")\n",
    "print(f\"Testing MSE: {test_mse}\")\n",
    "print(f\"Training R²: {train_r2}\")\n",
    "print(f\"Testing R²: {test_r2}\")"
   ]
  },
  {
   "cell_type": "code",
   "execution_count": null,
   "id": "aace510e-542f-4ef2-959b-4e5f6d163e3f",
   "metadata": {},
   "outputs": [],
   "source": [
    "# Scatterplot com valores de treino e valores previsto\n",
    "train_results = pd.DataFrame({'Actual': y_train, 'Predicted': y_train_pred, 'Dataset': 'Training'})\n",
    "test_results = pd.DataFrame({'Actual': y_test, 'Predicted': y_test_pred, 'Dataset': 'Testing'})\n",
    "combined_results = pd.concat([train_results, test_results])\n",
    "\n",
    "\n",
    "plt.figure(figsize=(10, 6))\n",
    "sns.scatterplot(x='Actual', y='Predicted', hue='Dataset', data=combined_results, s=100, alpha=0.8)\n",
    "plt.plot([min(y.min(), y_train_pred.min()) - 1, max(y.max(), y_train_pred.max()) + 1],\n",
    "         [min(y.min(), y_train_pred.min()) - 1, max(y.max(), y_train_pred.max()) + 1], 'r--')\n",
    "\n",
    "plt.xlabel('Actual Salary')\n",
    "plt.ylabel('Predicted Salary')\n",
    "plt.title('Actual vs Predicted Salary (Training & Testing)')\n",
    "plt.grid(True)\n",
    "plt.legend()\n",
    "plt.show()"
   ]
  },
  {
   "cell_type": "code",
   "execution_count": null,
   "id": "e1b466ca-96e4-4905-8f28-8532cab3bc7d",
   "metadata": {},
   "outputs": [],
   "source": [
    "cv_scores = cross_val_score(model, X, y, cv=5, scoring='neg_mean_squared_error')\n",
    "\n",
    "print(\"Cross-validation MSE scores:\", -cv_scores)\n",
    "print(\"Mean cross-validation MSE:\", -cv_scores.mean())"
   ]
  },
  {
   "cell_type": "code",
   "execution_count": null,
   "id": "53e2389f-adc7-4144-9aa8-5b356224ce20",
   "metadata": {},
   "outputs": [],
   "source": [
    "plt.figure(figsize=(8, 6))\n",
    "plt.plot(np.arange(1, 6), cv_scores, marker='o', color='b', label='MSE por Fold')\n",
    "\n",
    "plt.axhline(y=cv_scores.mean(), color='r', linestyle='--', label=f'Média MSE: {cv_scores.mean():.2f}')\n",
    "plt.title('Cross-Validation: MSE por Fold')\n",
    "plt.xlabel('Fold')\n",
    "plt.ylabel('Erro Quadrático Médio (MSE)')\n",
    "plt.legend()\n",
    "plt.grid(True)\n",
    "\n",
    "plt.show()"
   ]
  },
  {
   "cell_type": "code",
   "execution_count": null,
   "id": "f466fddc-4703-4428-b6c2-48559d7d7319",
   "metadata": {},
   "outputs": [],
   "source": []
  }
 ],
 "metadata": {
  "kernelspec": {
   "display_name": "Python 3 (ipykernel)",
   "language": "python",
   "name": "python3"
  },
  "language_info": {
   "codemirror_mode": {
    "name": "ipython",
    "version": 3
   },
   "file_extension": ".py",
   "mimetype": "text/x-python",
   "name": "python",
   "nbconvert_exporter": "python",
   "pygments_lexer": "ipython3",
   "version": "3.12.4"
  }
 },
 "nbformat": 4,
 "nbformat_minor": 5
}
